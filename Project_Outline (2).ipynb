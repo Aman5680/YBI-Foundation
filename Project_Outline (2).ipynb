{
  "nbformat": 4,
  "nbformat_minor": 0,
  "metadata": {
    "colab": {
      "provenance": []
    },
    "kernelspec": {
      "name": "python3",
      "display_name": "Python 3"
    },
    "language_info": {
      "name": "python"
    }
  },
  "cells": [
    {
      "cell_type": "markdown",
      "source": [
        "# **Bank Customer Churn Prediction Project**"
      ],
      "metadata": {
        "id": "dqZ-nhxiganh"
      }
    },
    {
      "cell_type": "markdown",
      "source": [
        "-------------"
      ],
      "metadata": {
        "id": "gScHkw6jjrLo"
      }
    },
    {
      "cell_type": "markdown",
      "source": [
        "## **Objective**"
      ],
      "metadata": {
        "id": "Xns_rCdhh-vZ"
      }
    },
    {
      "cell_type": "markdown",
      "source": [
        "Bank Customer Churn Prediction Project\n",
        "\n",
        "This project aims to predict customer churn based on various features such as customer demographics, account information, and engagement with the bank. By building a predictive model, the bank can identify customers likely to churn and implement targeted retention strategies."
      ],
      "metadata": {
        "id": "9sPvnFM1iI9l"
      }
    },
    {
      "cell_type": "markdown",
      "source": [
        "## **Data Source**"
      ],
      "metadata": {
        "id": "-Vbnt9CciKJP"
      }
    },
    {
      "cell_type": "markdown",
      "source": [
        "https://raw.githubusercontent.com/YBI-Foundation/Dataset/main/Bank%20Churn%20Modelling.csv"
      ],
      "metadata": {
        "id": "sGcv5WqQiNyl"
      }
    },
    {
      "cell_type": "markdown",
      "source": [
        "## **Import Library**"
      ],
      "metadata": {
        "id": "r7GrZzX0iTlV"
      }
    },
    {
      "cell_type": "code",
      "source": [
        "import pandas as pd\n",
        "import numpy as np\n",
        "import matplotlib.pyplot as plt\n",
        "import seaborn as sns\n",
        "from imblearn.over_sampling import RandomOverSampler\n",
        "from sklearn.model_selection import train_test_split\n",
        "from sklearn.preprocessing import StandardScaler\n",
        "from sklearn.svm import SVC\n",
        "from sklearn.metrics import confusion_matrix, classification_report\n",
        "from sklearn.model_selection import GridSearchCV"
      ],
      "metadata": {
        "id": "UkK6NH9DiW-X"
      },
      "execution_count": null,
      "outputs": []
    },
    {
      "cell_type": "markdown",
      "source": [
        "## **Import Data**"
      ],
      "metadata": {
        "id": "9lHPQj1XiOUc"
      }
    },
    {
      "cell_type": "code",
      "source": [
        "df = pd.read_csv('https://raw.githubusercontent.com/YBI-Foundation/Dataset/main/Bank%20Churn%20Modelling.csv')"
      ],
      "metadata": {
        "id": "zcU1fdnGho6M"
      },
      "execution_count": null,
      "outputs": []
    },
    {
      "cell_type": "markdown",
      "source": [
        "## **Describe Data**"
      ],
      "metadata": {
        "id": "7PUnimBoiX-x"
      }
    },
    {
      "cell_type": "code",
      "source": [
        "The dataset used in this project includes the following columns:\n",
        "\n",
        "CustomerId: Unique identifier for each customer.\n",
        "Surname: Last name of the customer.\n",
        "CreditScore: Customer's credit score.\n",
        "Geography: Country of residence.\n",
        "Gender: Gender of the customer.\n",
        "Age: Age of the customer.\n",
        "Tenure: Number of years with the bank.\n",
        "Balance: Balance in the customer's account.\n",
        "NumOfProducts: Number of products with the bank.\n",
        "HasCreditCard: Has a credit card (1 = Yes, 0 = No).\n",
        "IsActiveMember: Is an active member (1 = Yes, 0 = No).\n",
        "EstimatedSalary: Customer's annual salary.\n",
        "Churn: Churn indicator (1 = Yes, 0 = No).\n",
        "The target variable for prediction is Churn. Our goal is to build a model that accurately predicts whether a customer will churn based on the other features."
      ],
      "metadata": {
        "id": "kG15arusiZ8Z"
      },
      "execution_count": null,
      "outputs": []
    },
    {
      "cell_type": "markdown",
      "source": [
        "## **Data Visualization**"
      ],
      "metadata": {
        "id": "oBGX4Ekniriz"
      }
    },
    {
      "cell_type": "code",
      "source": [
        "CreditScore\tGeography\tGender\tAge\tTenure\tBalance\tNum Of Products\tHas Credit Card\tIs Active Member\tEstimated Salary\tChurn\tZero Balance\n",
        "count\t10000.000000\t10000.000000\t10000.000000\t10000.000000\t10000.000000\t10000.000000\t10000.000000\t10000.00000\t10000.000000\t10000.000000\t10000.000000\t10000.000000\n",
        "mean\t650.528800\t1.253700\t0.454300\t38.921800\t5.012800\t76485.889288\t1.530200\t0.70550\t0.515100\t100090.239881\t0.203700\t0.638300\n",
        "std\t96.653299\t0.827529\t0.497932\t10.487806\t2.892174\t62397.405202\t0.581654\t0.45584\t0.499797\t57510.492818\t0.402769\t0.480517\n",
        "min\t350.000000\t0.000000\t0.000000\t18.000000\t0.000000\t0.000000\t1.000000\t0.00000\t0.000000\t11.580000\t0.000000\t0.000000\n",
        "25%\t584.000000\t1.000000\t0.000000\t32.000000\t3.000000\t0.000000\t1.000000\t0.00000\t0.000000\t51002.110000\t0.000000\t0.000000\n",
        "50%\t652.000000\t2.000000\t0.000000\t37.000000\t5.000000\t97198.540000\t1.000000\t1.00000\t1.000000\t100193.915000\t0.000000\t1.000000\n",
        "75%\t718.000000\t2.000000\t1.000000\t44.000000\t7.000000\t127644.240000\t2.000000\t1.00000\t1.000000\t149388.247500\t0.000000\t1.000000\n",
        "max\t850.000000\t2.000000\t1.000000\t92.000000\t10.000000\t250898.090000\t4.000000\t1.00000\t1.000000\t199992.480000\t1.000000\t1.000000"
      ],
      "metadata": {
        "id": "lW-OIRK0iuzO"
      },
      "execution_count": null,
      "outputs": []
    },
    {
      "cell_type": "markdown",
      "source": [
        "## **Data Preprocessing**"
      ],
      "metadata": {
        "id": "UqfyPOCYiiww"
      }
    },
    {
      "cell_type": "code",
      "source": [],
      "metadata": {
        "id": "3cyr3fbGin0A"
      },
      "execution_count": null,
      "outputs": []
    },
    {
      "cell_type": "markdown",
      "source": [
        "## **Define Target Variable (y) and Feature Variables (X)**"
      ],
      "metadata": {
        "id": "2jXJpdAuiwYW"
      }
    },
    {
      "cell_type": "code",
      "source": [
        "x = df.drop(['Surname', 'Churn'], axis = 1)\n",
        "y = df['Churn']"
      ],
      "metadata": {
        "id": "QBCakTuli57t"
      },
      "execution_count": null,
      "outputs": []
    },
    {
      "cell_type": "markdown",
      "source": [
        "## **Train Test Split**"
      ],
      "metadata": {
        "id": "90_0q_Pbi658"
      }
    },
    {
      "cell_type": "code",
      "source": [
        "from sklearn.model_selection import train_test_split\n",
        "#Split Original Data\n",
        "x_train, x_test, y_train, y_test = train_test_split(x, y, test_size=0.3, random_state=25)"
      ],
      "metadata": {
        "id": "u60YYaOFi-Dw"
      },
      "execution_count": null,
      "outputs": []
    },
    {
      "cell_type": "markdown",
      "source": [
        "## **Modeling**"
      ],
      "metadata": {
        "id": "cIhyseNria7W"
      }
    },
    {
      "cell_type": "code",
      "source": [
        "from sklearn.metrics import confusion_matrix, classification_report\n",
        "confusion_matrix(y_test, y_pred)\n",
        "print(classification_report(y_test, y_pred))"
      ],
      "metadata": {
        "id": "Toq58wpkjCw7"
      },
      "execution_count": null,
      "outputs": []
    },
    {
      "cell_type": "markdown",
      "source": [
        "## **Model Evaluation**"
      ],
      "metadata": {
        "id": "vhAwWfG0jFun"
      }
    },
    {
      "cell_type": "code",
      "source": [
        "svc_ros = SVC()\n",
        "svc_ros.fit(x_train_ros, y_train_ros)"
      ],
      "metadata": {
        "id": "lND3jJj_jhx4"
      },
      "execution_count": null,
      "outputs": []
    },
    {
      "cell_type": "markdown",
      "source": [
        "## **Prediction**"
      ],
      "metadata": {
        "id": "8AzwG7oLjiQI"
      }
    },
    {
      "cell_type": "code",
      "source": [
        "print(classification_report(y_test, y_pred))\n",
        "print(classification_report(y_test, grid_predictions))\n",
        "print(classification_report(y_test_rus, y_pred_rus))\n",
        "print(classification_report(y_test_rus, grid_predication_rus))\n",
        "print(classification_report(y_test_ros, y_pred_ros))\n",
        "print(classification_report(y_test_ros, grid_predictions_ros))"
      ],
      "metadata": {
        "id": "JLebGzDJjknA"
      },
      "execution_count": null,
      "outputs": []
    },
    {
      "cell_type": "markdown",
      "source": [
        "## **Explaination**"
      ],
      "metadata": {
        "id": "SBo38CJZjlEX"
      }
    },
    {
      "cell_type": "markdown",
      "source": [
        "We will interpret the model's performance by examining key metrics and identifying the most important features in the model. If a model like Random Forest or Gradient Boosting is used, feature importances can help us understand the impact of each variable on churn prediction.\n",
        "\n",
        "We can also use visualization techniques like SHAP values or LIME for model interpretation to gain insights into individual predictions and overall model behavior."
      ],
      "metadata": {
        "id": "Ybi8FR9Kjv00"
      }
    }
  ]
}